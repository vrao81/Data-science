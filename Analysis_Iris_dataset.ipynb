{
 "cells": [
  {
   "cell_type": "code",
   "execution_count": 7,
   "id": "73d2d158",
   "metadata": {},
   "outputs": [],
   "source": [
    "#Analysis using Iris Data Set\n",
    "import numpy as np\n",
    "import pandas as pd\n",
    "import matplotlib.pyplot as plt\n",
    "from sklearn.metrics import confusion_matrix\n",
    "from sklearn.linear_model import LogisticRegression\n",
    "from sklearn.model_selection import cross_val_score\n",
    "from sklearn.tree import DecisionTreeClassifier\n",
    "from sklearn.metrics import classification_report\n",
    "from sklearn.datasets import load_iris\n",
    "from sklearn import tree\n",
    "iris_data = load_iris()\n",
    "X= iris_data.data\n",
    "Y=iris_data.target\n",
    "\n"
   ]
  },
  {
   "cell_type": "code",
   "execution_count": 8,
   "id": "3d16a02c",
   "metadata": {},
   "outputs": [
    {
     "name": "stdout",
     "output_type": "stream",
     "text": [
      "              precision    recall  f1-score   support\n",
      "\n",
      "           0       1.00      1.00      1.00        19\n",
      "           1       1.00      1.00      1.00        26\n",
      "           2       1.00      1.00      1.00        30\n",
      "\n",
      "    accuracy                           1.00        75\n",
      "   macro avg       1.00      1.00      1.00        75\n",
      "weighted avg       1.00      1.00      1.00        75\n",
      "\n"
     ]
    }
   ],
   "source": [
    "#First try logistic regression\n",
    "\n",
    "\n",
    "X_data=pd.DataFrame(data=X, columns=[\"sepal_l\",\"sepal_w\",\"petal_l\",\"petal_w\"]) #create new dataframe with data\n",
    "X_data[\"class\"]=Y\n",
    "X_shuffled = X_data.sample(frac=1).reset_index(drop=True) #shuffle the data\n",
    "# Select training and test data\n",
    "X_train=X_shuffled[0:75]\n",
    "X_test=X_shuffled[75:]\n",
    "# This splits the dataframe into 2. The train data set is used to train the model, test is to evaluate it\n",
    "Y_train=X_train[\"class\"]\n",
    "X_train.drop(\"class\", axis=1)\n",
    "Y_test=X_test[\"class\"]\n",
    "X_test.drop(\"class\", axis=1)\n",
    "#Alternately can use test_train_slit from sklearn\n",
    "#Now run the model\n",
    "lrmodel=LogisticRegression(max_iter=1000)\n",
    "lrmodel.fit(X_train,Y_train)\n",
    "y_predicted=lrmodel.predict(X_test) # Create predicted values\n",
    "\n",
    "#Now compare predicted values (y_predicted, versus Y_test)\n",
    "print(classification_report(Y_test, y_predicted))\n",
    "#Model correctly classified every species"
   ]
  },
  {
   "cell_type": "code",
   "execution_count": 11,
   "id": "47b67ff0",
   "metadata": {},
   "outputs": [
    {
     "name": "stdout",
     "output_type": "stream",
     "text": [
      "              precision    recall  f1-score   support\n",
      "\n",
      "           0       1.00      1.00      1.00        19\n",
      "           1       1.00      1.00      1.00        26\n",
      "           2       1.00      1.00      1.00        30\n",
      "\n",
      "    accuracy                           1.00        75\n",
      "   macro avg       1.00      1.00      1.00        75\n",
      "weighted avg       1.00      1.00      1.00        75\n",
      "\n"
     ]
    }
   ],
   "source": [
    "\n",
    "\n",
    "#Now try decision classifier\n",
    "clf = DecisionTreeClassifier(random_state=0)\n",
    "\n",
    "\n",
    "clf.fit(X_train, Y_train)\n",
    "y_predicted=clf.predict(X_test)\n",
    "print(classification_report(Y_test, y_predicted)) #Again 100% accuracy"
   ]
  },
  {
   "cell_type": "code",
   "execution_count": 12,
   "id": "d1108733",
   "metadata": {},
   "outputs": [
    {
     "name": "stdout",
     "output_type": "stream",
     "text": [
      "2\n",
      "3\n",
      "              precision    recall  f1-score   support\n",
      "\n",
      "           0       1.00      1.00      1.00        19\n",
      "           1       0.46      1.00      0.63        26\n",
      "           2       0.00      0.00      0.00        30\n",
      "\n",
      "    accuracy                           0.60        75\n",
      "   macro avg       0.49      0.67      0.54        75\n",
      "weighted avg       0.41      0.60      0.47        75\n",
      "\n"
     ]
    },
    {
     "name": "stderr",
     "output_type": "stream",
     "text": [
      "c:\\users\\vik\\appdata\\local\\programs\\python\\python39\\lib\\site-packages\\sklearn\\metrics\\_classification.py:1248: UndefinedMetricWarning: Precision and F-score are ill-defined and being set to 0.0 in labels with no predicted samples. Use `zero_division` parameter to control this behavior.\n",
      "  _warn_prf(average, modifier, msg_start, len(result))\n",
      "c:\\users\\vik\\appdata\\local\\programs\\python\\python39\\lib\\site-packages\\sklearn\\metrics\\_classification.py:1248: UndefinedMetricWarning: Precision and F-score are ill-defined and being set to 0.0 in labels with no predicted samples. Use `zero_division` parameter to control this behavior.\n",
      "  _warn_prf(average, modifier, msg_start, len(result))\n",
      "c:\\users\\vik\\appdata\\local\\programs\\python\\python39\\lib\\site-packages\\sklearn\\metrics\\_classification.py:1248: UndefinedMetricWarning: Precision and F-score are ill-defined and being set to 0.0 in labels with no predicted samples. Use `zero_division` parameter to control this behavior.\n",
      "  _warn_prf(average, modifier, msg_start, len(result))\n"
     ]
    }
   ],
   "source": [
    "# Now change Decision Tree parameters to experiment changing of features\n",
    "\n",
    "print(clf.get_depth()) # Get depth of tree\n",
    "print(clf.get_n_leaves())\n",
    "#Now change parameters, \n",
    "clf = DecisionTreeClassifier(splitter = 'best', max_leaf_nodes=2, random_state=0)\n",
    "\n",
    "clf.fit(X_train, Y_train)\n",
    "y_predicted=clf.predict(X_test)\n",
    "print(classification_report(Y_test, y_predicted)) #Accuracy goes down"
   ]
  },
  {
   "cell_type": "markdown",
   "id": "d44fdd6d",
   "metadata": {},
   "source": [
    "As can be seen the accuracy is reduced as a result of changing parameters such as maximum leaf nodes"
   ]
  },
  {
   "cell_type": "code",
   "execution_count": null,
   "id": "f3ed3444",
   "metadata": {},
   "outputs": [],
   "source": []
  }
 ],
 "metadata": {
  "kernelspec": {
   "display_name": "Python 3 (ipykernel)",
   "language": "python",
   "name": "python3"
  },
  "language_info": {
   "codemirror_mode": {
    "name": "ipython",
    "version": 3
   },
   "file_extension": ".py",
   "mimetype": "text/x-python",
   "name": "python",
   "nbconvert_exporter": "python",
   "pygments_lexer": "ipython3",
   "version": "3.9.6"
  }
 },
 "nbformat": 4,
 "nbformat_minor": 5
}
