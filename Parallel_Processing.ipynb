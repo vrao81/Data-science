{
 "cells": [
  {
   "cell_type": "markdown",
   "id": "77bd1948",
   "metadata": {},
   "source": [
    "This python script shows the difference in running batch versus parallel jobs in python. Pi is estimated using the infinite series shown here: https://www.britannica.com/topic/Pi-Recipes-1084437 and run in batch and parallel jobs."
   ]
  },
  {
   "cell_type": "code",
   "execution_count": 1,
   "id": "13cd8594",
   "metadata": {},
   "outputs": [],
   "source": [
    "from joblib import Parallel, delayed\n",
    "import tqdm"
   ]
  },
  {
   "cell_type": "code",
   "execution_count": 2,
   "id": "05dbe1f9",
   "metadata": {},
   "outputs": [],
   "source": [
    "def batch_function(): # function which estimates PI as infinite series\n",
    "    k, pi = 1,0\n",
    "    array_of_terms=[]\n",
    "    for i in range(1,10000): #create list of terms , -1/3, 1/5, -1/7, according to the website above        \n",
    "        if i%2!=0: # if odd i\n",
    "            \n",
    "            array_of_terms.append(1/i) # append only terms we need\n",
    "        #now multiply every other element by -1\n",
    "            temp = array_of_terms # Copy the list\n",
    "    # Iterate through the indexes instead of the elements\n",
    "    for i in range(len(temp)):\n",
    "        if i % 2 != 0:\n",
    "            temp[i] = temp[i]*-1 #perform multiplication with -1 if needed\n",
    "    #sum the list and multiply by 4 to get PI!\n",
    "    pi=4*sum(temp)\n",
    "    return pi\n"
   ]
  },
  {
   "cell_type": "code",
   "execution_count": 3,
   "id": "ab8b257b",
   "metadata": {},
   "outputs": [
    {
     "data": {
      "text/plain": [
       "3.141392653591791"
      ]
     },
     "execution_count": 3,
     "metadata": {},
     "output_type": "execute_result"
    }
   ],
   "source": [
    "batch_function()"
   ]
  },
  {
   "cell_type": "code",
   "execution_count": 4,
   "id": "55e79e94",
   "metadata": {},
   "outputs": [],
   "source": [
    "N=5000\n",
    "items=range(N)"
   ]
  },
  {
   "cell_type": "code",
   "execution_count": 5,
   "id": "45257752",
   "metadata": {},
   "outputs": [
    {
     "name": "stdout",
     "output_type": "stream",
     "text": [
      "Wall time: 5.85 s\n"
     ]
    }
   ],
   "source": [
    "%%time\n",
    "result=[batch_function() for row in items]\n",
    "\n"
   ]
  },
  {
   "cell_type": "markdown",
   "id": "8a21c445",
   "metadata": {},
   "source": [
    "Batch function gives 5.95s compute time to process PI 5000 total times. Now try parallel processing with joblib"
   ]
  },
  {
   "cell_type": "code",
   "execution_count": null,
   "id": "b9da0d60",
   "metadata": {},
   "outputs": [],
   "source": []
  },
  {
   "cell_type": "code",
   "execution_count": 6,
   "id": "f25df010",
   "metadata": {},
   "outputs": [
    {
     "name": "stdout",
     "output_type": "stream",
     "text": [
      "Wall time: 3.45 s\n"
     ]
    }
   ],
   "source": [
    "%%time\n",
    "r=Parallel(n_jobs=8)(\n",
    "    delayed(batch_function)()\n",
    "    for row in items\n",
    ")\n"
   ]
  },
  {
   "cell_type": "markdown",
   "id": "6e01717e",
   "metadata": {},
   "source": [
    "parallel processing gives 3.58s. Now try with greater N"
   ]
  },
  {
   "cell_type": "code",
   "execution_count": 7,
   "id": "1f697dcd",
   "metadata": {},
   "outputs": [],
   "source": [
    "N=12000\n",
    "items=range(N)"
   ]
  },
  {
   "cell_type": "code",
   "execution_count": 8,
   "id": "2757a49c",
   "metadata": {},
   "outputs": [
    {
     "name": "stdout",
     "output_type": "stream",
     "text": [
      "Wall time: 14 s\n"
     ]
    }
   ],
   "source": [
    "%%time\n",
    "result=[batch_function() for row in items]"
   ]
  },
  {
   "cell_type": "code",
   "execution_count": 9,
   "id": "d00c05fc",
   "metadata": {},
   "outputs": [
    {
     "name": "stdout",
     "output_type": "stream",
     "text": [
      "Wall time: 3.91 s\n"
     ]
    }
   ],
   "source": [
    "%%time\n",
    "r=Parallel(n_jobs=8)(\n",
    "    delayed(batch_function)()\n",
    "    for row in items\n",
    ")"
   ]
  },
  {
   "cell_type": "code",
   "execution_count": null,
   "id": "26cb79ec",
   "metadata": {},
   "outputs": [],
   "source": []
  }
 ],
 "metadata": {
  "kernelspec": {
   "display_name": "Python 3 (ipykernel)",
   "language": "python",
   "name": "python3"
  },
  "language_info": {
   "codemirror_mode": {
    "name": "ipython",
    "version": 3
   },
   "file_extension": ".py",
   "mimetype": "text/x-python",
   "name": "python",
   "nbconvert_exporter": "python",
   "pygments_lexer": "ipython3",
   "version": "3.9.6"
  }
 },
 "nbformat": 4,
 "nbformat_minor": 5
}
