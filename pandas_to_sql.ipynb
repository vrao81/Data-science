{
 "cells": [
  {
   "cell_type": "code",
   "execution_count": 1,
   "id": "ec611ba2",
   "metadata": {},
   "outputs": [],
   "source": [
    "# This file creates a small pandas dataframe and converts it to sql database\n",
    "#The database is accessed and queries are applied\n",
    "\n",
    "\n",
    "import pandas as pd\n",
    "import numpy as np\n",
    "import sqlite3\n"
   ]
  },
  {
   "cell_type": "code",
   "execution_count": 2,
   "id": "338f45ad",
   "metadata": {},
   "outputs": [
    {
     "data": {
      "text/plain": [
       "<sqlite3.Cursor at 0x1cd248c8f10>"
      ]
     },
     "execution_count": 2,
     "metadata": {},
     "output_type": "execute_result"
    }
   ],
   "source": [
    "data = {'col1': [1, 2, 7, 10], 'col2': [3, 4, 11, 22]}\n",
    "df = pd.DataFrame(data=data) #Create small pandas dataframe\n",
    "\n",
    "con = sqlite3.connect('example.db') #Create connection object\n",
    "\n",
    "cur = con.cursor()\n",
    "cur.execute('''CREATE TABLE IF NOT EXISTS pandas_dataframe\n",
    "               (column1, column2)''')\n"
   ]
  },
  {
   "cell_type": "code",
   "execution_count": 3,
   "id": "c9fccd49",
   "metadata": {},
   "outputs": [],
   "source": [
    "def insert_table(df, tbl_name): # insert df row by row into sql table\n",
    "    number_of_cols = len(df.columns)\n",
    "    temp=\"?\" # create string of '?', for sql insertion\n",
    "    temp=temp*number_of_cols\n",
    "    sep=','\n",
    "    list_of_qmarks=sep.join(temp)\n",
    "    \n",
    "\n",
    "    for i in range(df.first_valid_index(),df.last_valid_index()+1): # iterate and insert each row into sql db\n",
    "\n",
    "        df1_row=df.loc[i].values.flatten().tolist()\n",
    "\n",
    "        cur.execute(\"INSERT INTO\"+f\" {tbl_name} \"+\"VALUES (\"+f\"{list_of_qmarks}\"+\")\", df1_row)\n",
    "\n",
    "insert_table(df, 'pandas_dataframe') #call insert function\n"
   ]
  },
  {
   "cell_type": "code",
   "execution_count": 4,
   "id": "7250b9c2",
   "metadata": {},
   "outputs": [
    {
     "name": "stdout",
     "output_type": "stream",
     "text": [
      "[(1, 3), (2, 4), (7, 11), (10, 22)]\n"
     ]
    }
   ],
   "source": [
    "cur.execute(\"SELECT * FROM pandas_dataframe\")  # apply query\n",
    "print(cur.fetchall())    # display sql db data\n"
   ]
  },
  {
   "cell_type": "markdown",
   "id": "f3ed3b85",
   "metadata": {},
   "source": [
    "This shows how a pandas dataframe is inserted into a sql database. The query returns the tuples corresponding to rows in the dataframe. At Census Bureau, I developed script files to insert dataframes containing metrics from disclosure avoidance system (DAS) experiments. These experiments applied differential privacy on large population datasets to protect sensitive 2020 Census data. A total of 300,000 tuples of data per month were saved to SQL as a result of my script files. This was done to systematize the large number of metrics generated during DAS experiments, to promote alogorithm development"
   ]
  },
  {
   "cell_type": "code",
   "execution_count": null,
   "id": "43d84c75",
   "metadata": {},
   "outputs": [],
   "source": []
  }
 ],
 "metadata": {
  "kernelspec": {
   "display_name": "Python 3 (ipykernel)",
   "language": "python",
   "name": "python3"
  },
  "language_info": {
   "codemirror_mode": {
    "name": "ipython",
    "version": 3
   },
   "file_extension": ".py",
   "mimetype": "text/x-python",
   "name": "python",
   "nbconvert_exporter": "python",
   "pygments_lexer": "ipython3",
   "version": "3.9.6"
  }
 },
 "nbformat": 4,
 "nbformat_minor": 5
}
